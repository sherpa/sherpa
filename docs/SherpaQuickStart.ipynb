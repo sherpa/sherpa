{
 "cells": [
  {
   "cell_type": "markdown",
   "metadata": {},
   "source": [
    "Sherpa Quick Start\n",
    "==========\n",
    "\n",
    "This tutorial shows some basic Sherpa features.\n",
    "\n",
    "Workflow:\n",
    " - create synthetic data: a parabola with noise and error bars\n",
    " - load data in Sherpa\n",
    " - plot data using matplotlib\n",
    " - set, inspect, edit a model to fit the data\n",
    " - fit the data\n",
    " - compute the confidence intervals for the parameters\n",
    " - explore the parameter space"
   ]
  },
  {
   "cell_type": "markdown",
   "metadata": {},
   "source": [
    "First of all, let's activate the inline matplotlib mode. Sherpa seamlessly uses matplotlib to provide immediate visual feedback to the user. Support for matplotlib in Sherpa requires the matplotlib package to be installed."
   ]
  },
  {
   "cell_type": "code",
   "execution_count": 1,
   "metadata": {
    "collapsed": true
   },
   "outputs": [],
   "source": [
    "%matplotlib inline"
   ]
  },
  {
   "cell_type": "markdown",
   "metadata": {},
   "source": [
    "The following commands just avoid some unnecessary logging duplication when using Sherpa:"
   ]
  },
  {
   "cell_type": "code",
   "execution_count": 2,
   "metadata": {
    "collapsed": true
   },
   "outputs": [],
   "source": [
    "import logging\n",
    "logging.getLogger('sherpa').propagate = 0"
   ]
  },
  {
   "cell_type": "markdown",
   "metadata": {},
   "source": [
    "Now, let's create a simple synthetic dataset, using numpy: a parabola between x=-5 and x=5, with some randomly generated noise"
   ]
  },
  {
   "cell_type": "code",
   "execution_count": 3,
   "metadata": {
    "collapsed": true
   },
   "outputs": [],
   "source": [
    "import numpy as np\n",
    "\n",
    "x = np.arange(-5, 5.1)\n",
    "y = x*x + 23.2 + np.random.normal(size=x.size)\n",
    "e = np.ones(x.size)"
   ]
  },
  {
   "cell_type": "markdown",
   "metadata": {},
   "source": [
    "Let's import Sherpa:"
   ]
  },
  {
   "cell_type": "code",
   "execution_count": 4,
   "metadata": {
    "collapsed": false
   },
   "outputs": [
    {
     "name": "stdout",
     "output_type": "stream",
     "text": [
      "WARNING: failed to import sherpa.astro.xspec; XSPEC models will not be available\n"
     ]
    }
   ],
   "source": [
    "from sherpa.astro import ui as sherpa"
   ]
  },
  {
   "cell_type": "markdown",
   "metadata": {},
   "source": [
    "Depending on how you installed Sherpa, certain special features may be enabled or disabled. Sherpa prints some warning messages when it cannot find some of its modules, as shown above. These warnings are benign. You can refer to the Sherpa documentation to find out what additional features you can enable in Sherpa and how to enable them."
   ]
  },
  {
   "cell_type": "markdown",
   "metadata": {},
   "source": [
    "Let's load and plot the data we just created. Notice we are assigning the ID `mydata` to the dataset we are loading. We will use this ID to refer to the same dataset in the rest of the tutorial. Sherpa can deal with multiple datasets, fit them simultaneously with the same model, and even link parameters between models. Sherpa can read ASCII table and FITS files (provided the `pyfits` package is installed)."
   ]
  },
  {
   "cell_type": "code",
   "execution_count": 5,
   "metadata": {
    "collapsed": false
   },
   "outputs": [
    {
     "data": {
      "image/png": "[encoded data removed]"
     },
     "metadata": {},
     "output_type": "display_data"
    }
   ],
   "source": [
    "sherpa.load_arrays(\"mydata\", x, y, e)\n",
    "sherpa.plot_data(\"mydata\")"
   ]
  },
  {
   "cell_type": "markdown",
   "metadata": {},
   "source": [
    "We can set the model we want to fit to the data using the `set_model` call. There are different ways to instantiate the models: in this case, we just use the string `polynom1d` to refer to a 1D polynomial. The name of the model will be `poly`, and will be accessible as a Python variable. One can use more object oriented patterns to access and instantiate built-in models. Also, new models can be added by the user as Python functions or from tabular data."
   ]
  },
  {
   "cell_type": "code",
   "execution_count": 6,
   "metadata": {
    "collapsed": true
   },
   "outputs": [],
   "source": [
    "sherpa.set_model(\"mydata\", \"polynom1d.poly\")"
   ]
  },
  {
   "cell_type": "markdown",
   "metadata": {},
   "source": [
    "Several Sherpa commands can be used to inspect the model. In this case we just use a simple `print` to get a summary of the model and its components."
   ]
  },
  {
   "cell_type": "code",
   "execution_count": 7,
   "metadata": {
    "collapsed": false
   },
   "outputs": [
    {
     "name": "stdout",
     "output_type": "stream",
     "text": [
      "polynom1d.poly\n",
      "   Param        Type          Value          Min          Max      Units\n",
      "   -----        ----          -----          ---          ---      -----\n",
      "   poly.c0      thawed            1 -3.40282e+38  3.40282e+38           \n",
      "   poly.c1      frozen            0 -3.40282e+38  3.40282e+38           \n",
      "   poly.c2      frozen            0 -3.40282e+38  3.40282e+38           \n",
      "   poly.c3      frozen            0 -3.40282e+38  3.40282e+38           \n",
      "   poly.c4      frozen            0 -3.40282e+38  3.40282e+38           \n",
      "   poly.c5      frozen            0 -3.40282e+38  3.40282e+38           \n",
      "   poly.c6      frozen            0 -3.40282e+38  3.40282e+38           \n",
      "   poly.c7      frozen            0 -3.40282e+38  3.40282e+38           \n",
      "   poly.c8      frozen            0 -3.40282e+38  3.40282e+38           \n",
      "   poly.offset  frozen            0 -3.40282e+38  3.40282e+38           \n"
     ]
    }
   ],
   "source": [
    "print(poly)"
   ]
  },
  {
   "cell_type": "markdown",
   "metadata": {},
   "source": [
    "By default, only the first component (the intercept) is __thawed__, i.e. is free to vary in the fit. This corresponds to a constant function. In order to fit a parabola, we need to __thaw__ the coefficients of the first two orders in the polynomial, as shown below."
   ]
  },
  {
   "cell_type": "code",
   "execution_count": 8,
   "metadata": {
    "collapsed": true
   },
   "outputs": [],
   "source": [
    "sherpa.thaw(poly.c1, poly.c2)"
   ]
  },
  {
   "cell_type": "markdown",
   "metadata": {},
   "source": [
    "We are going to fit the dataset using the default settings. However, Sherpa has a number of optimization algorithms, each configurable by the user, and a number of statistics that can be used to take into account the error and other characteristics of data being fitted."
   ]
  },
  {
   "cell_type": "code",
   "execution_count": 9,
   "metadata": {
    "collapsed": false
   },
   "outputs": [
    {
     "name": "stdout",
     "output_type": "stream",
     "text": [
      "Dataset               = mydata\n",
      "Method                = levmar\n",
      "Statistic             = chi2\n",
      "Initial fit statistic = 11908.3\n",
      "Final fit statistic   = 7.5272 at function evaluation 8\n",
      "Data points           = 11\n",
      "Degrees of freedom    = 8\n",
      "Probability [Q-value] = 0.48096\n",
      "Reduced statistic     = 0.9409\n",
      "Change in statistic   = 11900.8\n",
      "   poly.c0        22.6647     \n",
      "   poly.c1        0.0391891   \n",
      "   poly.c2        1.00155     \n"
     ]
    }
   ],
   "source": [
    "sherpa.fit(\"mydata\")"
   ]
  },
  {
   "cell_type": "markdown",
   "metadata": {},
   "source": [
    "Notice that Sherpa used a Levemberg Marquadt minimization strategy, and the $\\chi^2$ error function. \n",
    "The best fit values of the parameters $c_0=22.9, c_1=-0.1, c_2=1.1$ are close to the ones defined when we generated the dataset, i.e. $23.2, 0, 1$ "
   ]
  },
  {
   "cell_type": "markdown",
   "metadata": {},
   "source": [
    "In order to get immediate feedback of the fit results, we can plot the fit and the residuals. Again, Sherpa facilitates the creation of the plots, but users can harvest the power of matplotlib directly if they want to."
   ]
  },
  {
   "cell_type": "code",
   "execution_count": 10,
   "metadata": {
    "collapsed": false
   },
   "outputs": [
    {
     "data": {
      "image/png": "[encoded data removed]"
     },
     "metadata": {},
     "output_type": "display_data"
    }
   ],
   "source": [
    "sherpa.plot_fit_resid(\"mydata\")"
   ]
  },
  {
   "cell_type": "markdown",
   "metadata": {},
   "source": [
    "We can now compute the confidence intervals for the free parameters in the fit:"
   ]
  },
  {
   "cell_type": "code",
   "execution_count": 11,
   "metadata": {
    "collapsed": false
   },
   "outputs": [
    {
     "name": "stdout",
     "output_type": "stream",
     "text": [
      "Dataset               = mydata\n",
      "Confidence Method     = confidence\n",
      "Iterative Fit Method  = None\n",
      "Fitting Method        = levmar\n",
      "Statistic             = chi2gehrels\n",
      "confidence 1-sigma (68.2689%) bounds:\n",
      "   Param            Best-Fit  Lower Bound  Upper Bound\n",
      "   -----            --------  -----------  -----------\n",
      "   poly.c0           22.6647    -0.455477     0.455477\n",
      "   poly.c1         0.0391891   -0.0953463    0.0953463\n",
      "   poly.c2           1.00155   -0.0341394    0.0341394\n",
      "poly.c0 lower bound:\t-0.455477\n",
      "poly.c1 lower bound:\t-0.0953463\n",
      "poly.c2 lower bound:\t-0.0341394\n",
      "poly.c0 upper bound:\t0.455477\n",
      "poly.c1 upper bound:\t0.0953463\n",
      "poly.c2 upper bound:\t0.0341394\n"
     ]
    }
   ],
   "source": [
    "sherpa.conf(\"mydata\")"
   ]
  },
  {
   "cell_type": "markdown",
   "metadata": {},
   "source": [
    "Sherpa allows to inspect the parameter space. In the cell below we ask sherpa to show us the projection of the confidence regions for the `c0` and `c1` parameters. The contours are configurable by the user: by default they show the confidence curves at 1, 2, and 3 $\\sigma$"
   ]
  },
  {
   "cell_type": "code",
   "execution_count": 12,
   "metadata": {
    "collapsed": false
   },
   "outputs": [
    {
     "data": {
      "image/png": "[encoded data removed]"
     },
     "metadata": {},
     "output_type": "display_data"
    }
   ],
   "source": [
    "sherpa.reg_proj(poly.c0, poly.c1)"
   ]
  },
  {
   "cell_type": "markdown",
   "metadata": {},
   "source": [
    "We can also directlty inspect the parameter space. For instance, in the plot below Sherpa displays the Interval Projection of the `c0` parameter, i.e. a plot of the error for each value of the parameter, around the minimum found by the optimization method during the fit."
   ]
  },
  {
   "cell_type": "code",
   "execution_count": 13,
   "metadata": {
    "collapsed": false
   },
   "outputs": [
    {
     "data": {
      "image/png": "[encoded data removed]"
     },
     "metadata": {},
     "output_type": "display_data"
    }
   ],
   "source": [
    "sherpa.int_proj(poly.c0)"
   ]
  }
 ],
 "metadata": {
  "kernelspec": {
   "display_name": "Python 2",
   "language": "python",
   "name": "python2"
  },
  "language_info": {
   "codemirror_mode": {
    "name": "ipython",
    "version": 2
   },
   "file_extension": ".py",
   "mimetype": "text/x-python",
   "name": "python",
   "nbconvert_exporter": "python",
   "pygments_lexer": "ipython2",
   "version": "2.7.9"
  }
 },
 "nbformat": 4,
 "nbformat_minor": 0
}
